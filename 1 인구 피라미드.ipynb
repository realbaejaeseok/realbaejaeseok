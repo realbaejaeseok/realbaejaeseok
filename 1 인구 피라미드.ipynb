{
 "cells": [
  {
   "cell_type": "markdown",
   "metadata": {},
   "source": [
    "# 1 인구 피라미드"
   ]
  },
  {
   "cell_type": "code",
   "execution_count": 1,
   "metadata": {},
   "outputs": [
    {
     "data": {
      "text/html": [
       "<div>\n",
       "<style scoped>\n",
       "    .dataframe tbody tr th:only-of-type {\n",
       "        vertical-align: middle;\n",
       "    }\n",
       "\n",
       "    .dataframe tbody tr th {\n",
       "        vertical-align: top;\n",
       "    }\n",
       "\n",
       "    .dataframe thead th {\n",
       "        text-align: right;\n",
       "    }\n",
       "</style>\n",
       "<table border=\"1\" class=\"dataframe\">\n",
       "  <thead>\n",
       "    <tr style=\"text-align: right;\">\n",
       "      <th></th>\n",
       "      <th>0~4세</th>\n",
       "      <th>5~9세</th>\n",
       "      <th>10~14세</th>\n",
       "      <th>15~19세</th>\n",
       "      <th>20~24세</th>\n",
       "      <th>25~29세</th>\n",
       "      <th>30~34세</th>\n",
       "      <th>35~39세</th>\n",
       "      <th>40~44세</th>\n",
       "      <th>45~49세</th>\n",
       "      <th>...</th>\n",
       "      <th>55~59세</th>\n",
       "      <th>60~64세</th>\n",
       "      <th>65~69세</th>\n",
       "      <th>70~74세</th>\n",
       "      <th>75~79세</th>\n",
       "      <th>80~84세</th>\n",
       "      <th>85~89세</th>\n",
       "      <th>90~94세</th>\n",
       "      <th>95~99세</th>\n",
       "      <th>100세 이상</th>\n",
       "    </tr>\n",
       "    <tr>\n",
       "      <th>행정기관</th>\n",
       "      <th></th>\n",
       "      <th></th>\n",
       "      <th></th>\n",
       "      <th></th>\n",
       "      <th></th>\n",
       "      <th></th>\n",
       "      <th></th>\n",
       "      <th></th>\n",
       "      <th></th>\n",
       "      <th></th>\n",
       "      <th></th>\n",
       "      <th></th>\n",
       "      <th></th>\n",
       "      <th></th>\n",
       "      <th></th>\n",
       "      <th></th>\n",
       "      <th></th>\n",
       "      <th></th>\n",
       "      <th></th>\n",
       "      <th></th>\n",
       "      <th></th>\n",
       "    </tr>\n",
       "  </thead>\n",
       "  <tbody>\n",
       "    <tr>\n",
       "      <td>전국</td>\n",
       "      <td>1,185,983</td>\n",
       "      <td>1,269,215</td>\n",
       "      <td>1,700,292</td>\n",
       "      <td>1,891,245</td>\n",
       "      <td>1,647,293</td>\n",
       "      <td>1,909,093</td>\n",
       "      <td>2,017,959</td>\n",
       "      <td>2,249,940</td>\n",
       "      <td>2,304,435</td>\n",
       "      <td>2,208,214</td>\n",
       "      <td>...</td>\n",
       "      <td>1,480,663</td>\n",
       "      <td>1,121,363</td>\n",
       "      <td>883,199</td>\n",
       "      <td>678,994</td>\n",
       "      <td>398,206</td>\n",
       "      <td>180,893</td>\n",
       "      <td>74,690</td>\n",
       "      <td>21,260</td>\n",
       "      <td>4,805</td>\n",
       "      <td>2,757</td>\n",
       "    </tr>\n",
       "    <tr>\n",
       "      <td>서울특별시</td>\n",
       "      <td>218,596</td>\n",
       "      <td>222,484</td>\n",
       "      <td>298,397</td>\n",
       "      <td>353,980</td>\n",
       "      <td>333,626</td>\n",
       "      <td>452,061</td>\n",
       "      <td>470,262</td>\n",
       "      <td>479,023</td>\n",
       "      <td>452,596</td>\n",
       "      <td>423,975</td>\n",
       "      <td>...</td>\n",
       "      <td>313,318</td>\n",
       "      <td>243,493</td>\n",
       "      <td>190,278</td>\n",
       "      <td>128,100</td>\n",
       "      <td>66,596</td>\n",
       "      <td>30,092</td>\n",
       "      <td>13,003</td>\n",
       "      <td>4,478</td>\n",
       "      <td>1,274</td>\n",
       "      <td>991</td>\n",
       "    </tr>\n",
       "    <tr>\n",
       "      <td>부산광역시</td>\n",
       "      <td>66,237</td>\n",
       "      <td>73,418</td>\n",
       "      <td>106,655</td>\n",
       "      <td>132,319</td>\n",
       "      <td>122,035</td>\n",
       "      <td>137,592</td>\n",
       "      <td>134,588</td>\n",
       "      <td>140,871</td>\n",
       "      <td>147,889</td>\n",
       "      <td>151,364</td>\n",
       "      <td>...</td>\n",
       "      <td>130,147</td>\n",
       "      <td>97,612</td>\n",
       "      <td>73,325</td>\n",
       "      <td>51,061</td>\n",
       "      <td>26,946</td>\n",
       "      <td>11,182</td>\n",
       "      <td>4,152</td>\n",
       "      <td>1,037</td>\n",
       "      <td>286</td>\n",
       "      <td>239</td>\n",
       "    </tr>\n",
       "  </tbody>\n",
       "</table>\n",
       "<p>3 rows × 21 columns</p>\n",
       "</div>"
      ],
      "text/plain": [
       "              0~4세       5~9세     10~14세     15~19세     20~24세     25~29세  \\\n",
       "행정기관                                                                        \n",
       "전국       1,185,983  1,269,215  1,700,292  1,891,245  1,647,293  1,909,093   \n",
       "서울특별시      218,596    222,484    298,397    353,980    333,626    452,061   \n",
       "부산광역시       66,237     73,418    106,655    132,319    122,035    137,592   \n",
       "\n",
       "            30~34세     35~39세     40~44세     45~49세  ...     55~59세  \\\n",
       "행정기관                                                 ...              \n",
       "전국       2,017,959  2,249,940  2,304,435  2,208,214  ...  1,480,663   \n",
       "서울특별시      470,262    479,023    452,596    423,975  ...    313,318   \n",
       "부산광역시      134,588    140,871    147,889    151,364  ...    130,147   \n",
       "\n",
       "            60~64세   65~69세   70~74세   75~79세   80~84세  85~89세  90~94세 95~99세  \\\n",
       "행정기관                                                                            \n",
       "전국       1,121,363  883,199  678,994  398,206  180,893  74,690  21,260  4,805   \n",
       "서울특별시      243,493  190,278  128,100   66,596   30,092  13,003   4,478  1,274   \n",
       "부산광역시       97,612   73,325   51,061   26,946   11,182   4,152   1,037    286   \n",
       "\n",
       "        100세 이상  \n",
       "행정기관             \n",
       "전국        2,757  \n",
       "서울특별시       991  \n",
       "부산광역시       239  \n",
       "\n",
       "[3 rows x 21 columns]"
      ]
     },
     "execution_count": 1,
     "metadata": {},
     "output_type": "execute_result"
    }
   ],
   "source": [
    "import pandas as pd\n",
    "\n",
    "file_name = '201101_201101_연령별인구현황_월간.xlsx' #파일 이름만 바꾸어주면됨\n",
    "\n",
    "df_m = pd.read_excel(file_name, skiprows=3, index_col = '행정기관', usecols = 'b, E : Y') # 불필요한 것은 지우고 필요한것은 남기기\n",
    "df_m.head(3)"
   ]
  },
  {
   "cell_type": "markdown",
   "metadata": {},
   "source": [
    "## 남자 데이터 정리 df_m"
   ]
  },
  {
   "cell_type": "code",
   "execution_count": 2,
   "metadata": {},
   "outputs": [],
   "source": [
    "df_m.iloc[0] = df_m.iloc[0].str.replace(',', '').astype(int) #숫자에 , 를 없애는 작업(문자로 인식할수 있음)"
   ]
  },
  {
   "cell_type": "code",
   "execution_count": 3,
   "metadata": {},
   "outputs": [
    {
     "data": {
      "text/plain": [
       "0~4세       1185983\n",
       "5~9세       1269215\n",
       "10~14세     1700292\n",
       "15~19세     1891245\n",
       "20~24세     1647293\n",
       "25~29세     1909093\n",
       "30~34세     2017959\n",
       "35~39세     2249940\n",
       "40~44세     2304435\n",
       "45~49세     2208214\n",
       "50~54세     2088462\n",
       "55~59세     1480663\n",
       "60~64세     1121363\n",
       "65~69세      883199\n",
       "70~74세      678994\n",
       "75~79세      398206\n",
       "80~84세      180893\n",
       "85~89세       74690\n",
       "90~94세       21260\n",
       "95~99세        4805\n",
       "100세 이상       2757\n",
       "Name: 전국  , dtype: object"
      ]
     },
     "execution_count": 3,
     "metadata": {},
     "output_type": "execute_result"
    }
   ],
   "source": [
    "df_m.iloc[0]"
   ]
  },
  {
   "cell_type": "markdown",
   "metadata": {},
   "source": [
    "## 여자 데이터 정리 df_w"
   ]
  },
  {
   "cell_type": "code",
   "execution_count": 4,
   "metadata": {},
   "outputs": [
    {
     "data": {
      "text/html": [
       "<div>\n",
       "<style scoped>\n",
       "    .dataframe tbody tr th:only-of-type {\n",
       "        vertical-align: middle;\n",
       "    }\n",
       "\n",
       "    .dataframe tbody tr th {\n",
       "        vertical-align: top;\n",
       "    }\n",
       "\n",
       "    .dataframe thead th {\n",
       "        text-align: right;\n",
       "    }\n",
       "</style>\n",
       "<table border=\"1\" class=\"dataframe\">\n",
       "  <thead>\n",
       "    <tr style=\"text-align: right;\">\n",
       "      <th></th>\n",
       "      <th>0~4세.1</th>\n",
       "      <th>5~9세.1</th>\n",
       "      <th>10~14세.1</th>\n",
       "      <th>15~19세.1</th>\n",
       "      <th>20~24세.1</th>\n",
       "      <th>25~29세.1</th>\n",
       "      <th>30~34세.1</th>\n",
       "      <th>35~39세.1</th>\n",
       "      <th>40~44세.1</th>\n",
       "      <th>45~49세.1</th>\n",
       "      <th>...</th>\n",
       "      <th>55~59세.1</th>\n",
       "      <th>60~64세.1</th>\n",
       "      <th>65~69세.1</th>\n",
       "      <th>70~74세.1</th>\n",
       "      <th>75~79세.1</th>\n",
       "      <th>80~84세.1</th>\n",
       "      <th>85~89세.1</th>\n",
       "      <th>90~94세.1</th>\n",
       "      <th>95~99세.1</th>\n",
       "      <th>100세 이상.1</th>\n",
       "    </tr>\n",
       "    <tr>\n",
       "      <th>행정기관</th>\n",
       "      <th></th>\n",
       "      <th></th>\n",
       "      <th></th>\n",
       "      <th></th>\n",
       "      <th></th>\n",
       "      <th></th>\n",
       "      <th></th>\n",
       "      <th></th>\n",
       "      <th></th>\n",
       "      <th></th>\n",
       "      <th></th>\n",
       "      <th></th>\n",
       "      <th></th>\n",
       "      <th></th>\n",
       "      <th></th>\n",
       "      <th></th>\n",
       "      <th></th>\n",
       "      <th></th>\n",
       "      <th></th>\n",
       "      <th></th>\n",
       "      <th></th>\n",
       "    </tr>\n",
       "  </thead>\n",
       "  <tbody>\n",
       "    <tr>\n",
       "      <td>전국</td>\n",
       "      <td>1,114,548</td>\n",
       "      <td>1,172,184</td>\n",
       "      <td>1,552,080</td>\n",
       "      <td>1,669,828</td>\n",
       "      <td>1,490,482</td>\n",
       "      <td>1,803,569</td>\n",
       "      <td>1,934,386</td>\n",
       "      <td>2,158,981</td>\n",
       "      <td>2,217,640</td>\n",
       "      <td>2,110,431</td>\n",
       "      <td>...</td>\n",
       "      <td>1,499,770</td>\n",
       "      <td>1,171,158</td>\n",
       "      <td>1,023,412</td>\n",
       "      <td>895,663</td>\n",
       "      <td>658,015</td>\n",
       "      <td>403,519</td>\n",
       "      <td>197,955</td>\n",
       "      <td>66,962</td>\n",
       "      <td>17,771</td>\n",
       "      <td>8,464</td>\n",
       "    </tr>\n",
       "    <tr>\n",
       "      <td>서울특별시</td>\n",
       "      <td>206,706</td>\n",
       "      <td>208,555</td>\n",
       "      <td>274,379</td>\n",
       "      <td>317,398</td>\n",
       "      <td>331,100</td>\n",
       "      <td>461,241</td>\n",
       "      <td>459,450</td>\n",
       "      <td>459,298</td>\n",
       "      <td>446,896</td>\n",
       "      <td>426,340</td>\n",
       "      <td>...</td>\n",
       "      <td>336,800</td>\n",
       "      <td>261,630</td>\n",
       "      <td>202,211</td>\n",
       "      <td>150,719</td>\n",
       "      <td>101,687</td>\n",
       "      <td>64,822</td>\n",
       "      <td>33,152</td>\n",
       "      <td>12,178</td>\n",
       "      <td>3,706</td>\n",
       "      <td>2,576</td>\n",
       "    </tr>\n",
       "    <tr>\n",
       "      <td>부산광역시</td>\n",
       "      <td>62,602</td>\n",
       "      <td>67,607</td>\n",
       "      <td>94,547</td>\n",
       "      <td>111,986</td>\n",
       "      <td>109,069</td>\n",
       "      <td>129,896</td>\n",
       "      <td>128,374</td>\n",
       "      <td>137,870</td>\n",
       "      <td>150,606</td>\n",
       "      <td>157,998</td>\n",
       "      <td>...</td>\n",
       "      <td>135,328</td>\n",
       "      <td>101,835</td>\n",
       "      <td>80,014</td>\n",
       "      <td>64,728</td>\n",
       "      <td>44,382</td>\n",
       "      <td>27,140</td>\n",
       "      <td>12,478</td>\n",
       "      <td>3,733</td>\n",
       "      <td>1,115</td>\n",
       "      <td>821</td>\n",
       "    </tr>\n",
       "  </tbody>\n",
       "</table>\n",
       "<p>3 rows × 21 columns</p>\n",
       "</div>"
      ],
      "text/plain": [
       "            0~4세.1     5~9세.1   10~14세.1   15~19세.1   20~24세.1   25~29세.1  \\\n",
       "행정기관                                                                        \n",
       "전국       1,114,548  1,172,184  1,552,080  1,669,828  1,490,482  1,803,569   \n",
       "서울특별시      206,706    208,555    274,379    317,398    331,100    461,241   \n",
       "부산광역시       62,602     67,607     94,547    111,986    109,069    129,896   \n",
       "\n",
       "          30~34세.1   35~39세.1   40~44세.1   45~49세.1  ...   55~59세.1  \\\n",
       "행정기관                                                 ...              \n",
       "전국       1,934,386  2,158,981  2,217,640  2,110,431  ...  1,499,770   \n",
       "서울특별시      459,450    459,298    446,896    426,340  ...    336,800   \n",
       "부산광역시      128,374    137,870    150,606    157,998  ...    135,328   \n",
       "\n",
       "          60~64세.1   65~69세.1 70~74세.1 75~79세.1 80~84세.1 85~89세.1 90~94세.1  \\\n",
       "행정기관                                                                         \n",
       "전국       1,171,158  1,023,412  895,663  658,015  403,519  197,955   66,962   \n",
       "서울특별시      261,630    202,211  150,719  101,687   64,822   33,152   12,178   \n",
       "부산광역시      101,835     80,014   64,728   44,382   27,140   12,478    3,733   \n",
       "\n",
       "        95~99세.1 100세 이상.1  \n",
       "행정기관                        \n",
       "전국        17,771     8,464  \n",
       "서울특별시      3,706     2,576  \n",
       "부산광역시      1,115       821  \n",
       "\n",
       "[3 rows x 21 columns]"
      ]
     },
     "execution_count": 4,
     "metadata": {},
     "output_type": "execute_result"
    }
   ],
   "source": [
    "df_w = pd.read_excel(file_name, skiprows=3, index_col = '행정기관', usecols = 'b, AB : AV')\n",
    "df_w.head(3)"
   ]
  },
  {
   "cell_type": "code",
   "execution_count": 5,
   "metadata": {
    "scrolled": true
   },
   "outputs": [
    {
     "data": {
      "text/plain": [
       "Index(['0~4세', '5~9세', '10~14세', '15~19세', '20~24세', '25~29세', '30~34세',\n",
       "       '35~39세', '40~44세', '45~49세', '50~54세', '55~59세', '60~64세', '65~69세',\n",
       "       '70~74세', '75~79세', '80~84세', '85~89세', '90~94세', '95~99세', '100세 이상'],\n",
       "      dtype='object')"
      ]
     },
     "execution_count": 5,
     "metadata": {},
     "output_type": "execute_result"
    }
   ],
   "source": [
    "df_m.columns"
   ]
  },
  {
   "cell_type": "code",
   "execution_count": 6,
   "metadata": {
    "scrolled": true
   },
   "outputs": [
    {
     "data": {
      "text/plain": [
       "Index(['0~4세.1', '5~9세.1', '10~14세.1', '15~19세.1', '20~24세.1', '25~29세.1',\n",
       "       '30~34세.1', '35~39세.1', '40~44세.1', '45~49세.1', '50~54세.1', '55~59세.1',\n",
       "       '60~64세.1', '65~69세.1', '70~74세.1', '75~79세.1', '80~84세.1', '85~89세.1',\n",
       "       '90~94세.1', '95~99세.1', '100세 이상.1'],\n",
       "      dtype='object')"
      ]
     },
     "execution_count": 6,
     "metadata": {},
     "output_type": "execute_result"
    }
   ],
   "source": [
    "df_w.columns # 남자 데이터의 컬럼명과 다르게 표기 할라고 .1로 표기됨"
   ]
  },
  {
   "cell_type": "code",
   "execution_count": 7,
   "metadata": {
    "scrolled": true
   },
   "outputs": [
    {
     "data": {
      "text/plain": [
       "Index(['0~4세', '5~9세', '10~14세', '15~19세', '20~24세', '25~29세', '30~34세',\n",
       "       '35~39세', '40~44세', '45~49세', '50~54세', '55~59세', '60~64세', '65~69세',\n",
       "       '70~74세', '75~79세', '80~84세', '85~89세', '90~94세', '95~99세', '100세 이상'],\n",
       "      dtype='object')"
      ]
     },
     "execution_count": 7,
     "metadata": {},
     "output_type": "execute_result"
    }
   ],
   "source": [
    "df_w.columns = df_m.columns\n",
    "df_w.columns"
   ]
  },
  {
   "cell_type": "code",
   "execution_count": 8,
   "metadata": {},
   "outputs": [
    {
     "data": {
      "text/plain": [
       "0~4세       1114548\n",
       "5~9세       1172184\n",
       "10~14세     1552080\n",
       "15~19세     1669828\n",
       "20~24세     1490482\n",
       "25~29세     1803569\n",
       "30~34세     1934386\n",
       "35~39세     2158981\n",
       "40~44세     2217640\n",
       "45~49세     2110431\n",
       "50~54세     2048952\n",
       "55~59세     1499770\n",
       "60~64세     1171158\n",
       "65~69세     1023412\n",
       "70~74세      895663\n",
       "75~79세      658015\n",
       "80~84세      403519\n",
       "85~89세      197955\n",
       "90~94세       66962\n",
       "95~99세       17771\n",
       "100세 이상       8464\n",
       "Name: 전국  , dtype: object"
      ]
     },
     "execution_count": 8,
     "metadata": {},
     "output_type": "execute_result"
    }
   ],
   "source": [
    "df_w.iloc[0] = df_w.iloc[0].str.replace(',', '').astype(int)\n",
    "df_w.iloc[0]"
   ]
  },
  {
   "cell_type": "markdown",
   "metadata": {},
   "source": [
    "## 데이터 시각화"
   ]
  },
  {
   "cell_type": "code",
   "execution_count": 9,
   "metadata": {},
   "outputs": [],
   "source": [
    "import matplotlib.pyplot as plt\n",
    "import matplotlib\n",
    "matplotlib.rcParams['font.family'] = 'Malgun Gothic' #윈도우용\n",
    "matplotlib.rcParams['font.size'] = 15 #글자 크기 조절\n",
    "matplotlib.rcParams['axes.unicode_minus'] = False #한글 폰트 사용시, 마이너스 글자가 깨지는 현상을 해결 "
   ]
  },
  {
   "cell_type": "code",
   "execution_count": 10,
   "metadata": {
    "scrolled": true
   },
   "outputs": [
    {
     "data": {
      "text/plain": [
       "<BarContainer object of 21 artists>"
      ]
     },
     "execution_count": 10,
     "metadata": {},
     "output_type": "execute_result"
    },
    {
     "data": {
      "image/png": "[encoded data removed]",
      "text/plain": [
       "<Figure size 720x360 with 1 Axes>"
      ]
     },
     "metadata": {
      "needs_background": "light"
     },
     "output_type": "display_data"
    }
   ],
   "source": [
    "plt.figure(figsize = (10, 5))\n",
    "plt.barh(df_m.columns, df_m.iloc[0]//1000) #단위를 천명으로 변환"
   ]
  },
  {
   "cell_type": "code",
   "execution_count": 11,
   "metadata": {},
   "outputs": [
    {
     "data": {
      "image/png": "[encoded data removed]",
      "text/plain": [
       "<Figure size 720x360 with 1 Axes>"
      ]
     },
     "metadata": {
      "needs_background": "light"
     },
     "output_type": "display_data"
    }
   ],
   "source": [
    "plt.figure(figsize = (10, 5))\n",
    "plt.barh(df_m.columns, df_m.iloc[0]//1000, label = '남')\n",
    "plt.barh(df_w.columns, -df_w.iloc[0]//1000, label = '여')\n",
    "plt.legend()\n",
    "plt.title('2011 남녀 인구')\n",
    "plt.savefig('2011 남녀 인구.png', dpi = 100)\n",
    "\n"
   ]
  },
  {
   "cell_type": "code",
   "execution_count": 12,
   "metadata": {},
   "outputs": [],
   "source": [
    "#한국의 인구피라미드가 이렇게 생겼다. 단순 통계치를 보았을때 보기 어려웠지만 지금은 한눈에 들어온다"
   ]
  },
  {
   "cell_type": "code",
   "execution_count": 13,
   "metadata": {},
   "outputs": [
    {
     "data": {
      "image/png": "[encoded data removed]",
      "text/plain": [
       "<Figure size 720x360 with 1 Axes>"
      ]
     },
     "metadata": {
      "needs_background": "light"
     },
     "output_type": "display_data"
    }
   ],
   "source": [
    "plt.figure(figsize = (10, 5))\n",
    "plt.barh(df_m.columns, df_m.iloc[0]//1000, label = '남')\n",
    "plt.barh(df_w.columns, df_w.iloc[0]//1000, label = '여')\n",
    "plt.legend();\n",
    "# 단순 나이별로 어느 성별이 많이 있는가 \n",
    "#0 ~ 54세 까지는 남성이 많지만 그이후에는 여성이 많다."
   ]
  }
 ],
 "metadata": {
  "kernelspec": {
   "display_name": "Python 3",
   "language": "python",
   "name": "python3"
  },
  "language_info": {
   "codemirror_mode": {
    "name": "ipython",
    "version": 3
   },
   "file_extension": ".py",
   "mimetype": "text/x-python",
   "name": "python",
   "nbconvert_exporter": "python",
   "pygments_lexer": "ipython3",
   "version": "3.7.4"
  }
 },
 "nbformat": 4,
 "nbformat_minor": 2
}
